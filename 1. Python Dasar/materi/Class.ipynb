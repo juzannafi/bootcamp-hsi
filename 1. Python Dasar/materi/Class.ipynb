{
 "cells": [
  {
   "cell_type": "markdown",
   "metadata": {},
   "source": [
    "# Class"
   ]
  },
  {
   "cell_type": "markdown",
   "metadata": {},
   "source": [
    "## Simple Class"
   ]
  },
  {
   "cell_type": "code",
   "execution_count": 1,
   "metadata": {},
   "outputs": [
    {
     "name": "stdout",
     "output_type": "stream",
     "text": [
      "Syarif\n",
      "Hello Syarif, selamat pagi\n",
      "Hello Ai Jogja, selamat pagi\n"
     ]
    }
   ],
   "source": [
    "class User:\n",
    "    nama = \"Syarif\"\n",
    "\n",
    "    def greeting(self, nama=\"\"):\n",
    "        if nama:\n",
    "            self.nama = nama\n",
    "        return \"Hello %s, selamat pagi\" % self.nama\n",
    "\n",
    "user1 = User()\n",
    "print(user1.nama)\n",
    "print(user1.greeting())\n",
    "print(user1.greeting(nama=\"Ai Jogja\"))"
   ]
  },
  {
   "cell_type": "markdown",
   "metadata": {},
   "source": [
    "## More Detail\n",
    "- nama class biasanya diawali dengan hurup besar\n",
    "- fungsi __init__ adalah biasa disebut constructor, yaitu fungsi yang pasti akan dieksekusi\n",
    "- fungsi __init__ digunakan untuk memberikan parameter pada class\n",
    "- self mengarah pada object / class\n",
    "- untuk mengoverride gunakan nama fungsi dengan nama yang sama\n",
    "- untuk mengambil / menggunakan fungsi dari parent ketika override, bisa menggunakan super"
   ]
  },
  {
   "cell_type": "code",
   "execution_count": 3,
   "metadata": {},
   "outputs": [
    {
     "name": "stdout",
     "output_type": "stream",
     "text": [
      "Montor\n",
      "0.0\n",
      "0.0\n",
      "Mio\n",
      "10000000.0\n",
      "10500000.0\n"
     ]
    }
   ],
   "source": [
    "class Kendaraan:\n",
    "\n",
    "    def __init__(self, nama, merk, harga=0, warna='hitam'):\n",
    "        self.nama = nama\n",
    "        self.merk = merk\n",
    "        self.harga = float(harga)\n",
    "        self.warna = warna\n",
    "        \n",
    "    def harga_jual(self, pajak=True):\n",
    "        if pajak:\n",
    "            nominal_pajak = self.harga * 0.1\n",
    "            harga_jual = self.harga + nominal_pajak\n",
    "        else:\n",
    "            harga_jual = self.harga\n",
    "        return harga_jual\n",
    "\n",
    "        \n",
    "class Motor(Kendaraan):\n",
    "    \n",
    "    def __init__(self, nama, merk, harga, warna):\n",
    "        super().__init__(nama, merk, harga, warna)\n",
    "        \n",
    "    def harga_jual(self, pajak=True):\n",
    "        #harga_jual = super().harga_jual(pajak=True)\n",
    "        harga_jual = self.harga\n",
    "        if self.warna == 'hitam':\n",
    "            harga_jual += 500000\n",
    "        return harga_jual\n",
    "\n",
    "\n",
    "kendaraan = Kendaraan(nama=\"Montor\", merk=\"Honda\")\n",
    "print(kendaraan.nama)\n",
    "print(kendaraan.harga)\n",
    "print(kendaraan.harga_jual())\n",
    "\n",
    "mio = Motor(nama=\"Mio\", merk=\"Yamaha\", harga=\"10000000\", warna=\"hitam\")\n",
    "print(mio.nama)\n",
    "print(mio.harga)\n",
    "print(mio.harga_jual())"
   ]
  },
  {
   "cell_type": "code",
   "execution_count": null,
   "metadata": {},
   "outputs": [],
   "source": []
  }
 ],
 "metadata": {
  "kernelspec": {
   "display_name": "Python 3",
   "language": "python",
   "name": "python3"
  },
  "language_info": {
   "codemirror_mode": {
    "name": "ipython",
    "version": 3
   },
   "file_extension": ".py",
   "mimetype": "text/x-python",
   "name": "python",
   "nbconvert_exporter": "python",
   "pygments_lexer": "ipython3",
   "version": "3.8.6"
  }
 },
 "nbformat": 4,
 "nbformat_minor": 4
}
