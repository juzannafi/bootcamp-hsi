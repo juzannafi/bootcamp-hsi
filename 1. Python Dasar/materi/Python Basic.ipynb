{
 "cells": [
  {
   "cell_type": "markdown",
   "metadata": {},
   "source": [
    "# Basic"
   ]
  },
  {
   "cell_type": "markdown",
   "metadata": {},
   "source": [
    "## String"
   ]
  },
  {
   "cell_type": "code",
   "execution_count": 27,
   "metadata": {
    "scrolled": true
   },
   "outputs": [
    {
     "name": "stdout",
     "output_type": "stream",
     "text": [
      "hello dunia\n"
     ]
    }
   ],
   "source": [
    "string1 = \"hello\"\n",
    "string2 = \"dunia\"\n",
    "string3 = string1 + \" \" + string2\n",
    "\n",
    "print(string3)"
   ]
  },
  {
   "cell_type": "code",
   "execution_count": 29,
   "metadata": {},
   "outputs": [
    {
     "name": "stdout",
     "output_type": "stream",
     "text": [
      "<class 'int'> 5\n"
     ]
    }
   ],
   "source": [
    "string4 = \"5\"\n",
    "number4 = int(string4)\n",
    "string_baru = str(number4)\n",
    "\n",
    "print(type(number4), \"%s\" % number4)"
   ]
  },
  {
   "cell_type": "markdown",
   "metadata": {},
   "source": [
    "### Exercise\n",
    "\n",
    "Print nama masing2 minimal 2 kata, serta umur    \n",
    "**output:** Nama saya Syarif Hidayat, umur 30"
   ]
  },
  {
   "cell_type": "code",
   "execution_count": 32,
   "metadata": {},
   "outputs": [
    {
     "name": "stdout",
     "output_type": "stream",
     "text": [
      "Nama saya Syarif Hidayat, umur 30\n",
      "Nama saya Syarif Hidayat, umur 30\n"
     ]
    }
   ],
   "source": [
    "nama_depan = \"Syarif\"\n",
    "nama_belakang = \"Hidayat\"\n",
    "umur = 30\n",
    "\n",
    "print(\"Nama saya \" + nama_depan + \" \" + nama_belakang +\", umur \"+str(umur))\n",
    "print(\"Nama saya %s %s, umur %d\" % (nama_depan, nama_belakang, umur))"
   ]
  },
  {
   "cell_type": "markdown",
   "metadata": {},
   "source": [
    "## List"
   ]
  },
  {
   "cell_type": "code",
   "execution_count": 33,
   "metadata": {},
   "outputs": [
    {
     "name": "stdout",
     "output_type": "stream",
     "text": [
      "[4, 2, 3, 7, 8]\n",
      "Max: 8\n",
      "Min: 2\n",
      "[2, 3, 4, 7, 8]\n"
     ]
    }
   ],
   "source": [
    "list1 = [4, 2, 3, 7, 8]\n",
    "print(list1)\n",
    "print(\"Max: %d\" % max(list1))\n",
    "print(\"Min: %d\" % min(list1))\n",
    "list1.sort()\n",
    "print(list1)"
   ]
  },
  {
   "cell_type": "code",
   "execution_count": 34,
   "metadata": {},
   "outputs": [
    {
     "name": "stdout",
     "output_type": "stream",
     "text": [
      "[2, 3, 4, 7, 8, 6]\n",
      "3\n",
      "7\n",
      "[2, 3]\n"
     ]
    }
   ],
   "source": [
    "list1.append(6)\n",
    "# now, list1 should be [4, 2, 3, 7, 8, 6]\n",
    "print(list1)\n",
    "print(list1[1])\n",
    "print(list1[3])\n",
    "print(list1[:2])"
   ]
  },
  {
   "cell_type": "code",
   "execution_count": null,
   "metadata": {},
   "outputs": [],
   "source": []
  },
  {
   "cell_type": "markdown",
   "metadata": {},
   "source": [
    "### Exercise\n",
    "Buat list nama dari semua peserta, dan tampilkan 2 nama terakhir saja    \n",
    "list_nama = [\"Syarif\", \"Hari\", \"Ai\", \"Joko\"]    \n",
    "**output:** [\"Ai\", \"Joko\"]"
   ]
  },
  {
   "cell_type": "code",
   "execution_count": 38,
   "metadata": {},
   "outputs": [
    {
     "name": "stdout",
     "output_type": "stream",
     "text": [
      "['Joko', 'Jogja']\n"
     ]
    }
   ],
   "source": [
    "list_nama = [\"Syarif\", \"Hari\", \"Ai\", \"Joko\", \"Jogja\"]\n",
    "\n",
    "print(list_nama[-2:])"
   ]
  },
  {
   "cell_type": "markdown",
   "metadata": {},
   "source": [
    "## Dictionary"
   ]
  },
  {
   "cell_type": "code",
   "execution_count": 7,
   "metadata": {},
   "outputs": [
    {
     "name": "stdout",
     "output_type": "stream",
     "text": [
      "{'syarif': 30, 'hari': 33, 'sukro': 50}\n"
     ]
    }
   ],
   "source": [
    "dict1 = {'syarif' : 30, 'hari': 33}\n",
    "dict1['sukro'] = 50\n",
    "print(dict1)"
   ]
  },
  {
   "cell_type": "code",
   "execution_count": 8,
   "metadata": {},
   "outputs": [
    {
     "name": "stdout",
     "output_type": "stream",
     "text": [
      "[{'nama': 'syarif', 'umur': 30, 'alamat': 'sleman'}]\n"
     ]
    }
   ],
   "source": [
    "data_peserta = []\n",
    "peserta1 = {'nama': 'syarif', 'umur': 30}\n",
    "peserta1['alamat'] = 'sleman'\n",
    "data_peserta.append(peserta1)\n",
    "print(data_peserta)"
   ]
  },
  {
   "cell_type": "code",
   "execution_count": 9,
   "metadata": {},
   "outputs": [
    {
     "data": {
      "text/plain": [
       "[{'nama': 'syarif', 'umur': 30, 'alamat': 'sleman'}]"
      ]
     },
     "execution_count": 9,
     "metadata": {},
     "output_type": "execute_result"
    }
   ],
   "source": [
    "data_peserta"
   ]
  },
  {
   "cell_type": "markdown",
   "metadata": {},
   "source": [
    "### Exercise\n",
    "Coba tambahkan no hape pada peserta    \n",
    "**output:** [{'nama': 'syarif', 'umur': 30, 'alamat': 'sleman', 'no_hape': '0818123456'}]"
   ]
  },
  {
   "cell_type": "code",
   "execution_count": 10,
   "metadata": {},
   "outputs": [
    {
     "name": "stdout",
     "output_type": "stream",
     "text": [
      "[{'nama': 'syarif', 'umur': 30, 'alamat': 'sleman'}]\n"
     ]
    }
   ],
   "source": [
    "print(data_peserta)"
   ]
  },
  {
   "cell_type": "markdown",
   "metadata": {},
   "source": [
    "## Operator"
   ]
  },
  {
   "cell_type": "code",
   "execution_count": 11,
   "metadata": {},
   "outputs": [
    {
     "name": "stdout",
     "output_type": "stream",
     "text": [
      "4\n"
     ]
    }
   ],
   "source": [
    "number1 = 1\n",
    "number2 = 3\n",
    "jumlah = number1 + number2\n",
    "print(jumlah)"
   ]
  },
  {
   "cell_type": "code",
   "execution_count": 39,
   "metadata": {},
   "outputs": [
    {
     "name": "stdout",
     "output_type": "stream",
     "text": [
      "HELLO WORLD\n",
      "11\n",
      "he\n"
     ]
    }
   ],
   "source": [
    "string1 = \"hello\"\n",
    "string2 = \"world\"\n",
    "hello = string1+ \" \" +string2\n",
    "print(hello.upper())\n",
    "print(len(hello))\n",
    "print(hello[:2])"
   ]
  },
  {
   "cell_type": "markdown",
   "metadata": {},
   "source": [
    "### Exercise\n",
    "Buat string isinya nama masing2, dan tampilkan nama 3x dengan 1 print    \n",
    "***output:***    \n",
    "Syarif   \n",
    "Syarif   \n",
    "Syarif\n"
   ]
  },
  {
   "cell_type": "code",
   "execution_count": 41,
   "metadata": {},
   "outputs": [
    {
     "name": "stdout",
     "output_type": "stream",
     "text": [
      "Syarif\n",
      "Syarif\n",
      "Syarif\n",
      "\n"
     ]
    }
   ],
   "source": [
    "nama = \"Syarif\\n\"\n",
    "print(nama*3)"
   ]
  },
  {
   "cell_type": "markdown",
   "metadata": {},
   "source": [
    "## Condition"
   ]
  },
  {
   "cell_type": "code",
   "execution_count": 44,
   "metadata": {},
   "outputs": [
    {
     "name": "stdout",
     "output_type": "stream",
     "text": [
      "Ai, maaf Anda belum cukup umur untuk bikin KTP\n"
     ]
    }
   ],
   "source": [
    "nama = \"Syarif\"\n",
    "umur = 90\n",
    "\n",
    "if umur > 17 and umur < 50:\n",
    "    print(\"%s, Anda sudah bisa bikin KTP\" % nama)\n",
    "else:\n",
    "    nama = \"Ai\"\n",
    "    print(\"%s, maaf Anda belum cukup umur untuk bikin KTP\" % nama)"
   ]
  },
  {
   "cell_type": "code",
   "execution_count": 45,
   "metadata": {},
   "outputs": [
    {
     "name": "stdout",
     "output_type": "stream",
     "text": [
      "anda masuk dalam list peserta\n"
     ]
    }
   ],
   "source": [
    "list_peserta = [\"nama1\", \"nama2\", \"nama3\", \"syarif\"]\n",
    "nama_saya = \"syarif\"\n",
    "if nama_saya in list_peserta:\n",
    "    print(\"anda masuk dalam list peserta\")\n",
    "else:\n",
    "    print(\"anda bukan peserta, silahkan hubungi panitia\")"
   ]
  },
  {
   "cell_type": "markdown",
   "metadata": {},
   "source": [
    "### Exercise\n",
    "Dari list peserta yang pernah kita bikin diatas.   \n",
    "Buat kondisi ketika jumlah peserta >10 maka siap dimulai"
   ]
  },
  {
   "cell_type": "code",
   "execution_count": 48,
   "metadata": {},
   "outputs": [
    {
     "name": "stdout",
     "output_type": "stream",
     "text": [
      "dimulai aja dulu gpp\n"
     ]
    }
   ],
   "source": [
    "list_peserta = [\"nama1\", \"nama2\", \"nama3\", \"syarif\"]\n",
    "if len(list_peserta) > 10:\n",
    "    print(\"siap dimulai\")\n",
    "elif len(list_peserta) == 4:\n",
    "    print(\"dimulai aja dulu gpp\")\n",
    "else:\n",
    "    print(\"menunggu temannya\")"
   ]
  },
  {
   "cell_type": "markdown",
   "metadata": {},
   "source": [
    "## Loop"
   ]
  },
  {
   "cell_type": "code",
   "execution_count": 60,
   "metadata": {},
   "outputs": [
    {
     "name": "stdout",
     "output_type": "stream",
     "text": [
      "range(0, 5)\n",
      "0\n",
      "1\n",
      "2\n",
      "3\n",
      "4\n",
      "5\n",
      "6\n",
      "7\n",
      "8\n",
      "9\n"
     ]
    }
   ],
   "source": [
    "x = 5\n",
    "print(range(x))\n",
    "for i in range(10):\n",
    "    print(i)"
   ]
  },
  {
   "cell_type": "code",
   "execution_count": 17,
   "metadata": {},
   "outputs": [
    {
     "name": "stdout",
     "output_type": "stream",
     "text": [
      "4\n",
      "5\n",
      "6\n",
      "7\n",
      "8\n",
      "9\n"
     ]
    }
   ],
   "source": [
    "for i in range(4, 10):\n",
    "    print(i)"
   ]
  },
  {
   "cell_type": "code",
   "execution_count": 18,
   "metadata": {},
   "outputs": [
    {
     "name": "stdout",
     "output_type": "stream",
     "text": [
      "5\n",
      "4\n",
      "3\n",
      "2\n",
      "1\n"
     ]
    }
   ],
   "source": [
    "x = 5\n",
    "while x > 0:\n",
    "    print(x)\n",
    "    x -= 1"
   ]
  },
  {
   "cell_type": "markdown",
   "metadata": {},
   "source": [
    "### Exercise\n",
    "Dari list_peserta (yang ada pada condition), silahkan loop dan print nama masing2"
   ]
  },
  {
   "cell_type": "code",
   "execution_count": 50,
   "metadata": {},
   "outputs": [
    {
     "name": "stdout",
     "output_type": "stream",
     "text": [
      "['nama1', 'nama2', 'nama3', 'syarif']\n",
      "nama1\n",
      "nama2\n",
      "nama3\n",
      "syarif\n"
     ]
    }
   ],
   "source": [
    "print(list_peserta)\n",
    "for nama in list_peserta:\n",
    "    print(nama)"
   ]
  },
  {
   "cell_type": "markdown",
   "metadata": {},
   "source": [
    "## Function"
   ]
  },
  {
   "cell_type": "code",
   "execution_count": 52,
   "metadata": {},
   "outputs": [
    {
     "name": "stdout",
     "output_type": "stream",
     "text": [
      "Hello\n"
     ]
    }
   ],
   "source": [
    "def tampilkan_hello():\n",
    "    return \"Hello\"\n",
    "stringx = tampilkan_hello()\n",
    "print(stringx)"
   ]
  },
  {
   "cell_type": "code",
   "execution_count": 55,
   "metadata": {},
   "outputs": [
    {
     "data": {
      "text/plain": [
       "6"
      ]
     },
     "execution_count": 55,
     "metadata": {},
     "output_type": "execute_result"
    }
   ],
   "source": [
    "def penjumlahan(angka1, angka2):\n",
    "    return angka1 + angka2\n",
    "\n",
    "penjumlahan(2, 4)"
   ]
  },
  {
   "cell_type": "code",
   "execution_count": 56,
   "metadata": {},
   "outputs": [
    {
     "name": "stdout",
     "output_type": "stream",
     "text": [
      "38\n"
     ]
    }
   ],
   "source": [
    "def penjumlahan(angka1, angka2, *args):\n",
    "    jumlah = angka1 + angka2\n",
    "    for angka in args:\n",
    "        jumlah += angka\n",
    "    return jumlah\n",
    "\n",
    "print(penjumlahan(2, 4, 5, 10, 8, 9))"
   ]
  },
  {
   "cell_type": "code",
   "execution_count": 57,
   "metadata": {
    "scrolled": true
   },
   "outputs": [
    {
     "name": "stdout",
     "output_type": "stream",
     "text": [
      "ai jogja\n",
      "jogja ai\n"
     ]
    }
   ],
   "source": [
    "def set_fullname(nama_depan=\"\", nama_belakang=\"\"):\n",
    "    return nama_depan + \" \" + nama_belakang\n",
    "\n",
    "print(set_fullname(\"ai\", \"jogja\"))\n",
    "print(set_fullname(nama_belakang=\"ai\", nama_depan=\"jogja\"))"
   ]
  },
  {
   "cell_type": "code",
   "execution_count": 23,
   "metadata": {},
   "outputs": [
    {
     "name": "stdout",
     "output_type": "stream",
     "text": [
      "ai jogja\n",
      "ai from jogja\n"
     ]
    }
   ],
   "source": [
    "def get_fullname(nama_depan=\"\", nama_belakang=\"\", **kwargs):\n",
    "    if kwargs.get('nama_tengah'):\n",
    "        return \"%s %s %s\" % (nama_depan, kwargs['nama_tengah'], nama_belakang)\n",
    "    return \"{0} {1}\".format(nama_depan, nama_belakang)\n",
    "\n",
    "fullname1 = get_fullname(\n",
    "    nama_belakang=\"jogja\",\n",
    "    nama_depan=\"ai\"\n",
    ")\n",
    "print(fullname1)\n",
    "\n",
    "fullname2 = get_fullname(\n",
    "    nama_belakang=\"jogja\",\n",
    "    nama_depan=\"ai\",\n",
    "    nama_tengah=\"from\"\n",
    ")\n",
    "print(fullname2)"
   ]
  },
  {
   "cell_type": "markdown",
   "metadata": {},
   "source": [
    "### Exercise\n",
    "Saya punya uang RP 675.350,00. Dan saya mau mengambil uang saya dengan pecahan 100.000, 20.000, 1.000, 200 dan 50.    Berapa jumlah masing2 pecahan yang saya dapat?   \n",
    "jawaban:   \n",
    "- 100000 (6)\n",
    "- 20000 (3)\n",
    "- 1000 (15)\n",
    "- 200 (1)\n",
    "- 50 (3)   \n",
    "\n",
    "**Buatkan fungsi untuk menghitung hal tersebut, dan buat agar saya punya uang bisa dinamis**"
   ]
  },
  {
   "cell_type": "markdown",
   "metadata": {},
   "source": [
    "## List Comprehensions"
   ]
  },
  {
   "cell_type": "code",
   "execution_count": 24,
   "metadata": {},
   "outputs": [
    {
     "data": {
      "text/plain": [
       "[3, 4, 1, 5, 6, 8, 9, 10, 99, 16, 18]"
      ]
     },
     "execution_count": 24,
     "metadata": {},
     "output_type": "execute_result"
    }
   ],
   "source": [
    "list_angka = [3, 4, 1, 5, 6, 8, 9, 10, 99, 16, 18]\n",
    "list_angka"
   ]
  },
  {
   "cell_type": "code",
   "execution_count": 25,
   "metadata": {},
   "outputs": [
    {
     "data": {
      "text/plain": [
       "[3, 1, 5, 9, 99]"
      ]
     },
     "execution_count": 25,
     "metadata": {},
     "output_type": "execute_result"
    }
   ],
   "source": [
    "ganjil = []\n",
    "for angka in list_angka:\n",
    "    if angka % 2 != 0:\n",
    "        ganjil.append(angka)\n",
    "ganjil"
   ]
  },
  {
   "cell_type": "code",
   "execution_count": 26,
   "metadata": {},
   "outputs": [
    {
     "data": {
      "text/plain": [
       "[4, 6, 8, 10, 16, 18]"
      ]
     },
     "execution_count": 26,
     "metadata": {},
     "output_type": "execute_result"
    }
   ],
   "source": [
    "genap = [angka for angka in list_angka if angka % 2 == 0]\n",
    "genap"
   ]
  },
  {
   "cell_type": "markdown",
   "metadata": {},
   "source": [
    "## Test\n",
    "\n",
    "Download this link [bit.ly/test_basic_python](https://bit.ly/test_basic_python)."
   ]
  },
  {
   "cell_type": "code",
   "execution_count": null,
   "metadata": {},
   "outputs": [],
   "source": []
  }
 ],
 "metadata": {
  "kernelspec": {
   "display_name": "Python 3",
   "language": "python",
   "name": "python3"
  },
  "language_info": {
   "codemirror_mode": {
    "name": "ipython",
    "version": 3
   },
   "file_extension": ".py",
   "mimetype": "text/x-python",
   "name": "python",
   "nbconvert_exporter": "python",
   "pygments_lexer": "ipython3",
   "version": "3.8.6"
  }
 },
 "nbformat": 4,
 "nbformat_minor": 4
}
